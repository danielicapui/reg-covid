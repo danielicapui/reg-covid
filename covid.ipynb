import pandas as pd 
import numpy as np
import sklearn.metrics.pairwise as pw
from sklearn import preprocessing
import plotly.graph_objects as go
from sklearn.model_selection import train_test_split
from sklearn.linear_model import LinearRegression
from scipy.optimize import leastsq
import pylab as plt
from PIL import Image
from scipy.optimize import curve_fit

link="https://raw.githubusercontent.com/moraisnetocc/reg-covid/master/natal2.csv"
covid_casos=pd.read_csv(link,index_col=[], na_values=['(NA)']).fillna(0)
covid_casos
covid_casos.columns=["date","cases"]
#data=pd.DataFrame(pd.to_numeric(covid_casos['cases'].astype('float'), errors='coerce'), covid_casos['date'])
#data

import requests
from io import BytesIO
def rgb2gray(rgb):
  return np.dot(rgb[..., :3], [0.2989, 0.5870, 0.1140])

def open_image(response, size):
  image=Image.open(response)
  image = image.resize((size, size), Image.ANTIALIAS)
  return rgb2gray(np.array(image.convert('RGB')))  # .tolist()

def create_image_data_set(N, size,filepath=None):
  filepath = filepath or "https://raw.githubusercontent.com/moraisnetocc/reg-covid/master/suspeitos/"
  imagesX = []
  for i in range(1, N + 1):
      response = requests.get(f'{filepath}{i}.jpg',stream=True).raw
      #img = Image.open(BytesIO(response.content))
      img=open_image(response,size)
      imagesX.append(img)
  print('Imagens carregadas')
  return imagesX
def fit_sin(x,y):
  x=np.array(x,dtype='float64')
  y=np.array(y,dtype='float64')
  try:
    popt, _ = curve_fit(sin_func, x, y,maxfev=100000)
  except RuntimeError:
    print("Ocorreu um erro observe os valroes de x e y")
    print("Valor de x:",x)
    print("Valor de y:",y)
    print("-"*100)
    popt, _ = curve_fit(sin_func, x, x,maxfev=100000)
  a,b,c=popt
  #plt.scatter(x, y)
  x_line =np.arange(min(x), max(x), 1)
  y_line = sin_func(x_line, a, b, c)
  #plt.plot(x_line, y_line, '--', color='blue')
  #plt.show()
  return a,b,c
def predict_x(images, size, N):
  image_predicted = [[0 for j in range(200)] for i in range(200)]
  for i in range(size):
      for j in range(size):
          line = []
          for k in range(N):
              line.append(images[k][i][j])
          x_train = line[:N-2]
          y_train = line[1:N-1]
          a,b,c=fit_sin(x_train, y_train)
          x=line[N-1]
          image=sin_func(x,a,b,c)
          image_predicted[i][j] =image
  return np.asarray(image_predicted)

class SinRegression:
  def __init__(self):
        self.coef_ = None
        self.intercept_ = None
        self.formula =None
        self.X = None
        self.y = None
  def prever(self,x):
    return list(map(self.formula,x))
  def distribuicao(self,X,y):
    plt.plot(X,y,"bo",label="principal")
  def fit(self, X, y):
        X = np.array(X,dtype='float64')
        y = np.array(y,dtype='float64')
        self.X = X
        self.y = y
        #self.distribuicao(X,y)
        popt, _ = curve_fit(line_func,X, y,maxfev=100000)
        # build formula y = ax + b
        a,b=popt
        self.coef_ = np.array([b])
        self.intercept_ = np.array([a])
        self.formula= lambda _x:(a*_x)+b
  def sin_fit(self, X, y):
        X = np.array(X,dtype='float64')
        y = np.array(y,dtype='float64')
        self.X = X
        self.y = y
        #self.distribuica(X,y)
        popt, _ = curve_fit(sin_func,X, y)
        print(popt)
        # build formula y = a*bxx+c
        a,b,c=popt
        amplitude=(max(X)-min(X))/2
        B=(max(X)+min(X))/2
        self.X=np.arange(min(x), max(x), 1)
        self.y= sin_func(self.X, a, b, c)
        self.coef_ = np.array([b])
        self.intercept_ = np.array([a])
        self.formula = lambda _x:  a*np.sin(b*_x*_x)+c
  def exp_fit(self,X,y):
    X = np.array(X,dtype='float64')
    y = np.array(y,dtype='float64')
    self.X = X
    self.y = y
    popt, _ = curve_fit(exp_func,X, y)
    # build formula y = a*np.exp(b*x)
    a,b=popt
    self.coef_ = np.array([b])
    self.intercept_ = np.array([a])
    self.formula = lambda _x:  a*np.exp(b*_x)
  def predict_x(self, images, size, N,op=1):
    image_predicted = [[0 for j in range(200)] for i in range(200)]
    for i in range(size):
      for j in range(size):
          line = []
          for k in range(N):
              line.append(images[k][i][j])
          x_train = line[:N-2]
          y_train = line[1:N-1]
          if op==1:
            self.fit(x_train, y_train)
          elif op==2:
            self.sin_fit(x_train,y_train)
          elif op==3:
            self.exp_fit(x_train,y_train)
          imagem= self.prever([line[N-1]])[0]
          image_predicted[i][j] =imagem
    return np.asarray(image_predicted)

optimize_func = lambda x:x[0]*np.sin(x[1]*x[4]+x[2]) + x[3] - data
def sin_func(x,a,b,c):
  return a*np.sin(b*x*x)+c
def line_func(x,a,b):
  return (a*x)+b
def exp_func(x,a,b):
  return a*np.exp(b*x)

data=create_image_data_set(12,200)

data=np.array(data,dtype='float64')
data.shape

def analise(images, size, N):
  image_predicted = [[0 for j in range(200)] for i in range(200)]
  for i in range(size):
    for j in range(size):
        line = []
        for k in range(N):
            line.append(images[k][i][j])
        x_train = line[:12-2]
        y_train = line[1:12-1]
        return x_train,y_train
x,y=analise(data,200,12)

plt.plot(df[0].index,df[0].values, '--', color='blue')

df.plot.line()

df=pd.DataFrame(r)

r=predict_x(data,200,12)


custom=SinRegression()
p=custom.predict_x(data,200,12,2)

for i in range(len(p)):
  for j in range(len(p[i])):   
    print(f"valor de p:{p[i][j]} valor de r:{r[i][j]}")


teste = Image.fromarray(p)

#print('Mean Absolute Error:', metrics.mean_absolute_error(image_predicted, r.get_image(14)))
plt.imshow(teste)
plt.show()
print('Finalizado')

print(r)

teste = Image.fromarray(r)

#print('Mean Absolute Error:', metrics.mean_absolute_error(image_predicted, r.get_image(14)))
plt.imshow(teste)
plt.show()
print('Finalizado')

guess_mean = np.mean(data) #calculamos a media do dataset
guess_std = 3*np.std(data)/(2**(0.5))/(2**(0.5))  #calculamos o desvio padrão
guess_phase = 0 #definimos a fase
guess_freq = 1 #definimos a frequência
guess_amp = 1 #definimos a ampitude

# Isso daqui é para plotar a primeira tentativa
data_first_guess = guess_std*np.sin(t+guess_phase) + guess_mean #perceba que aplicamos a #função seno no guess_phase e t
# Define a função de otimização,, nesse caso, deseja-se minimiza-se as diferenças entre
# a dataset principal  e o"guessed" parâmetros
data_first_guess.astype('float')


# do modulo scrpy.leastsq aplicamos essa #função com esses parâmetros
est_amp, est_freq, est_phase, est_mean = leastsq(optimize_func, [guess_amp, guess_freq, guess_phase, guess_mean])[0]
est_amp, est_freq, est_phase, est_mean

 #multiplicação da aplitude pelo seno(frequencia e #fase)) + media
data_fit = est_amp*np.sin(est_freq*t+est_phase) + est_mean
#transforma é  array espaço
fine_t = np.arange(0,max(t),0.1)
#mesma coisa só que mais precisa
data_fit=est_amp*np.sin(est_freq*fine_t+est_phase)+est_mean

#plota os dados
plt.plot(t, data, '.')
#defini a plotagem do primeira tentativa
plt.plot(t, data_first_guess, label='first guess')
#define a descrição,legenda da  original
plt.plot(fine_t, data_fit, label='after fitting')
#descrição
plt.legend()
#mostra
plt.show()
